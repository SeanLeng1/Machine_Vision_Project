{
 "cells": [
  {
   "cell_type": "code",
   "execution_count": 1,
   "id": "e1417b71",
   "metadata": {
    "scrolled": false
   },
   "outputs": [
    {
     "name": "stderr",
     "output_type": "stream",
     "text": [
      "/Library/Frameworks/Python.framework/Versions/3.8/lib/python3.8/site-packages/tqdm/auto.py:22: TqdmWarning: IProgress not found. Please update jupyter and ipywidgets. See https://ipywidgets.readthedocs.io/en/stable/user_install.html\n",
      "  from .autonotebook import tqdm as notebook_tqdm\n"
     ]
    },
    {
     "ename": "FileNotFoundError",
     "evalue": "[Errno 2] No such file or directory: 'ImageData.mat'",
     "output_type": "error",
     "traceback": [
      "\u001b[0;31m---------------------------------------------------------------------------\u001b[0m",
      "\u001b[0;31mFileNotFoundError\u001b[0m                         Traceback (most recent call last)",
      "File \u001b[0;32m/Library/Frameworks/Python.framework/Versions/3.8/lib/python3.8/site-packages/scipy/io/matlab/_mio.py:39\u001b[0m, in \u001b[0;36m_open_file\u001b[0;34m(file_like, appendmat, mode)\u001b[0m\n\u001b[1;32m     <a href='file:///Library/Frameworks/Python.framework/Versions/3.8/lib/python3.8/site-packages/scipy/io/matlab/_mio.py?line=37'>38</a>\u001b[0m \u001b[39mtry\u001b[39;00m:\n\u001b[0;32m---> <a href='file:///Library/Frameworks/Python.framework/Versions/3.8/lib/python3.8/site-packages/scipy/io/matlab/_mio.py?line=38'>39</a>\u001b[0m     \u001b[39mreturn\u001b[39;00m \u001b[39mopen\u001b[39;49m(file_like, mode), \u001b[39mTrue\u001b[39;00m\n\u001b[1;32m     <a href='file:///Library/Frameworks/Python.framework/Versions/3.8/lib/python3.8/site-packages/scipy/io/matlab/_mio.py?line=39'>40</a>\u001b[0m \u001b[39mexcept\u001b[39;00m \u001b[39mOSError\u001b[39;00m \u001b[39mas\u001b[39;00m e:\n\u001b[1;32m     <a href='file:///Library/Frameworks/Python.framework/Versions/3.8/lib/python3.8/site-packages/scipy/io/matlab/_mio.py?line=40'>41</a>\u001b[0m     \u001b[39m# Probably \"not found\"\u001b[39;00m\n",
      "\u001b[0;31mFileNotFoundError\u001b[0m: [Errno 2] No such file or directory: 'ImageData.mat'",
      "\nDuring handling of the above exception, another exception occurred:\n",
      "\u001b[0;31mFileNotFoundError\u001b[0m                         Traceback (most recent call last)",
      "\u001b[1;32m/Users/roywang/YOLO/DataTreatment.ipynb Cell 1'\u001b[0m in \u001b[0;36m<cell line: 12>\u001b[0;34m()\u001b[0m\n\u001b[1;32m      <a href='vscode-notebook-cell:/Users/roywang/YOLO/DataTreatment.ipynb#ch0000000?line=7'>8</a>\u001b[0m \u001b[39mimport\u001b[39;00m \u001b[39mscipy\u001b[39;00m\u001b[39m.\u001b[39;00m\u001b[39mio\u001b[39;00m\n\u001b[1;32m      <a href='vscode-notebook-cell:/Users/roywang/YOLO/DataTreatment.ipynb#ch0000000?line=8'>9</a>\u001b[0m \u001b[39mimport\u001b[39;00m \u001b[39mmatplotlib\u001b[39;00m\u001b[39m.\u001b[39;00m\u001b[39mpyplot\u001b[39;00m \u001b[39mas\u001b[39;00m \u001b[39mplt\u001b[39;00m\n\u001b[0;32m---> <a href='vscode-notebook-cell:/Users/roywang/YOLO/DataTreatment.ipynb#ch0000000?line=11'>12</a>\u001b[0m mat \u001b[39m=\u001b[39m scipy\u001b[39m.\u001b[39;49mio\u001b[39m.\u001b[39;49mloadmat(\u001b[39m'\u001b[39;49m\u001b[39mImageData.mat\u001b[39;49m\u001b[39m'\u001b[39;49m)\n\u001b[1;32m     <a href='vscode-notebook-cell:/Users/roywang/YOLO/DataTreatment.ipynb#ch0000000?line=12'>13</a>\u001b[0m faces \u001b[39m=\u001b[39m mat[\u001b[39m'\u001b[39m\u001b[39mSubDir_Data\u001b[39m\u001b[39m'\u001b[39m]\n\u001b[1;32m     <a href='vscode-notebook-cell:/Users/roywang/YOLO/DataTreatment.ipynb#ch0000000?line=13'>14</a>\u001b[0m faces \u001b[39m=\u001b[39m np\u001b[39m.\u001b[39mtranspose(faces)\n",
      "File \u001b[0;32m/Library/Frameworks/Python.framework/Versions/3.8/lib/python3.8/site-packages/scipy/io/matlab/_mio.py:224\u001b[0m, in \u001b[0;36mloadmat\u001b[0;34m(file_name, mdict, appendmat, **kwargs)\u001b[0m\n\u001b[1;32m     <a href='file:///Library/Frameworks/Python.framework/Versions/3.8/lib/python3.8/site-packages/scipy/io/matlab/_mio.py?line=86'>87</a>\u001b[0m \u001b[39m\"\"\"\u001b[39;00m\n\u001b[1;32m     <a href='file:///Library/Frameworks/Python.framework/Versions/3.8/lib/python3.8/site-packages/scipy/io/matlab/_mio.py?line=87'>88</a>\u001b[0m \u001b[39mLoad MATLAB file.\u001b[39;00m\n\u001b[1;32m     <a href='file:///Library/Frameworks/Python.framework/Versions/3.8/lib/python3.8/site-packages/scipy/io/matlab/_mio.py?line=88'>89</a>\u001b[0m \n\u001b[0;32m   (...)\u001b[0m\n\u001b[1;32m    <a href='file:///Library/Frameworks/Python.framework/Versions/3.8/lib/python3.8/site-packages/scipy/io/matlab/_mio.py?line=220'>221</a>\u001b[0m \u001b[39m    3.14159265+3.14159265j])\u001b[39;00m\n\u001b[1;32m    <a href='file:///Library/Frameworks/Python.framework/Versions/3.8/lib/python3.8/site-packages/scipy/io/matlab/_mio.py?line=221'>222</a>\u001b[0m \u001b[39m\"\"\"\u001b[39;00m\n\u001b[1;32m    <a href='file:///Library/Frameworks/Python.framework/Versions/3.8/lib/python3.8/site-packages/scipy/io/matlab/_mio.py?line=222'>223</a>\u001b[0m variable_names \u001b[39m=\u001b[39m kwargs\u001b[39m.\u001b[39mpop(\u001b[39m'\u001b[39m\u001b[39mvariable_names\u001b[39m\u001b[39m'\u001b[39m, \u001b[39mNone\u001b[39;00m)\n\u001b[0;32m--> <a href='file:///Library/Frameworks/Python.framework/Versions/3.8/lib/python3.8/site-packages/scipy/io/matlab/_mio.py?line=223'>224</a>\u001b[0m \u001b[39mwith\u001b[39;00m _open_file_context(file_name, appendmat) \u001b[39mas\u001b[39;00m f:\n\u001b[1;32m    <a href='file:///Library/Frameworks/Python.framework/Versions/3.8/lib/python3.8/site-packages/scipy/io/matlab/_mio.py?line=224'>225</a>\u001b[0m     MR, _ \u001b[39m=\u001b[39m mat_reader_factory(f, \u001b[39m*\u001b[39m\u001b[39m*\u001b[39mkwargs)\n\u001b[1;32m    <a href='file:///Library/Frameworks/Python.framework/Versions/3.8/lib/python3.8/site-packages/scipy/io/matlab/_mio.py?line=225'>226</a>\u001b[0m     matfile_dict \u001b[39m=\u001b[39m MR\u001b[39m.\u001b[39mget_variables(variable_names)\n",
      "File \u001b[0;32m/Library/Frameworks/Python.framework/Versions/3.8/lib/python3.8/contextlib.py:113\u001b[0m, in \u001b[0;36m_GeneratorContextManager.__enter__\u001b[0;34m(self)\u001b[0m\n\u001b[1;32m    <a href='file:///Library/Frameworks/Python.framework/Versions/3.8/lib/python3.8/contextlib.py?line=110'>111</a>\u001b[0m \u001b[39mdel\u001b[39;00m \u001b[39mself\u001b[39m\u001b[39m.\u001b[39margs, \u001b[39mself\u001b[39m\u001b[39m.\u001b[39mkwds, \u001b[39mself\u001b[39m\u001b[39m.\u001b[39mfunc\n\u001b[1;32m    <a href='file:///Library/Frameworks/Python.framework/Versions/3.8/lib/python3.8/contextlib.py?line=111'>112</a>\u001b[0m \u001b[39mtry\u001b[39;00m:\n\u001b[0;32m--> <a href='file:///Library/Frameworks/Python.framework/Versions/3.8/lib/python3.8/contextlib.py?line=112'>113</a>\u001b[0m     \u001b[39mreturn\u001b[39;00m \u001b[39mnext\u001b[39;49m(\u001b[39mself\u001b[39;49m\u001b[39m.\u001b[39;49mgen)\n\u001b[1;32m    <a href='file:///Library/Frameworks/Python.framework/Versions/3.8/lib/python3.8/contextlib.py?line=113'>114</a>\u001b[0m \u001b[39mexcept\u001b[39;00m \u001b[39mStopIteration\u001b[39;00m:\n\u001b[1;32m    <a href='file:///Library/Frameworks/Python.framework/Versions/3.8/lib/python3.8/contextlib.py?line=114'>115</a>\u001b[0m     \u001b[39mraise\u001b[39;00m \u001b[39mRuntimeError\u001b[39;00m(\u001b[39m\"\u001b[39m\u001b[39mgenerator didn\u001b[39m\u001b[39m'\u001b[39m\u001b[39mt yield\u001b[39m\u001b[39m\"\u001b[39m) \u001b[39mfrom\u001b[39;00m \u001b[39mNone\u001b[39m\n",
      "File \u001b[0;32m/Library/Frameworks/Python.framework/Versions/3.8/lib/python3.8/site-packages/scipy/io/matlab/_mio.py:17\u001b[0m, in \u001b[0;36m_open_file_context\u001b[0;34m(file_like, appendmat, mode)\u001b[0m\n\u001b[1;32m     <a href='file:///Library/Frameworks/Python.framework/Versions/3.8/lib/python3.8/site-packages/scipy/io/matlab/_mio.py?line=14'>15</a>\u001b[0m \u001b[39m@contextmanager\u001b[39m\n\u001b[1;32m     <a href='file:///Library/Frameworks/Python.framework/Versions/3.8/lib/python3.8/site-packages/scipy/io/matlab/_mio.py?line=15'>16</a>\u001b[0m \u001b[39mdef\u001b[39;00m \u001b[39m_open_file_context\u001b[39m(file_like, appendmat, mode\u001b[39m=\u001b[39m\u001b[39m'\u001b[39m\u001b[39mrb\u001b[39m\u001b[39m'\u001b[39m):\n\u001b[0;32m---> <a href='file:///Library/Frameworks/Python.framework/Versions/3.8/lib/python3.8/site-packages/scipy/io/matlab/_mio.py?line=16'>17</a>\u001b[0m     f, opened \u001b[39m=\u001b[39m _open_file(file_like, appendmat, mode)\n\u001b[1;32m     <a href='file:///Library/Frameworks/Python.framework/Versions/3.8/lib/python3.8/site-packages/scipy/io/matlab/_mio.py?line=17'>18</a>\u001b[0m     \u001b[39mtry\u001b[39;00m:\n\u001b[1;32m     <a href='file:///Library/Frameworks/Python.framework/Versions/3.8/lib/python3.8/site-packages/scipy/io/matlab/_mio.py?line=18'>19</a>\u001b[0m         \u001b[39myield\u001b[39;00m f\n",
      "File \u001b[0;32m/Library/Frameworks/Python.framework/Versions/3.8/lib/python3.8/site-packages/scipy/io/matlab/_mio.py:45\u001b[0m, in \u001b[0;36m_open_file\u001b[0;34m(file_like, appendmat, mode)\u001b[0m\n\u001b[1;32m     <a href='file:///Library/Frameworks/Python.framework/Versions/3.8/lib/python3.8/site-packages/scipy/io/matlab/_mio.py?line=42'>43</a>\u001b[0m     \u001b[39mif\u001b[39;00m appendmat \u001b[39mand\u001b[39;00m \u001b[39mnot\u001b[39;00m file_like\u001b[39m.\u001b[39mendswith(\u001b[39m'\u001b[39m\u001b[39m.mat\u001b[39m\u001b[39m'\u001b[39m):\n\u001b[1;32m     <a href='file:///Library/Frameworks/Python.framework/Versions/3.8/lib/python3.8/site-packages/scipy/io/matlab/_mio.py?line=43'>44</a>\u001b[0m         file_like \u001b[39m+\u001b[39m\u001b[39m=\u001b[39m \u001b[39m'\u001b[39m\u001b[39m.mat\u001b[39m\u001b[39m'\u001b[39m\n\u001b[0;32m---> <a href='file:///Library/Frameworks/Python.framework/Versions/3.8/lib/python3.8/site-packages/scipy/io/matlab/_mio.py?line=44'>45</a>\u001b[0m     \u001b[39mreturn\u001b[39;00m \u001b[39mopen\u001b[39;49m(file_like, mode), \u001b[39mTrue\u001b[39;00m\n\u001b[1;32m     <a href='file:///Library/Frameworks/Python.framework/Versions/3.8/lib/python3.8/site-packages/scipy/io/matlab/_mio.py?line=45'>46</a>\u001b[0m \u001b[39melse\u001b[39;00m:\n\u001b[1;32m     <a href='file:///Library/Frameworks/Python.framework/Versions/3.8/lib/python3.8/site-packages/scipy/io/matlab/_mio.py?line=46'>47</a>\u001b[0m     \u001b[39mraise\u001b[39;00m \u001b[39mOSError\u001b[39;00m(\n\u001b[1;32m     <a href='file:///Library/Frameworks/Python.framework/Versions/3.8/lib/python3.8/site-packages/scipy/io/matlab/_mio.py?line=47'>48</a>\u001b[0m         \u001b[39m'\u001b[39m\u001b[39mReader needs file name or open file-like object\u001b[39m\u001b[39m'\u001b[39m\n\u001b[1;32m     <a href='file:///Library/Frameworks/Python.framework/Versions/3.8/lib/python3.8/site-packages/scipy/io/matlab/_mio.py?line=48'>49</a>\u001b[0m     ) \u001b[39mfrom\u001b[39;00m \u001b[39me\u001b[39;00m\n",
      "\u001b[0;31mFileNotFoundError\u001b[0m: [Errno 2] No such file or directory: 'ImageData.mat'"
     ]
    }
   ],
   "source": [
    "import numpy as np\n",
    "import random\n",
    "import os\n",
    "import pandas as pd\n",
    "import time\n",
    "from torch.autograd import variable\n",
    "import cv2\n",
    "import scipy.io\n",
    "import matplotlib.pyplot as plt\n",
    "\n",
    "\n",
    "mat = scipy.io.loadmat('ImageData.mat')\n",
    "faces = mat['SubDir_Data']\n",
    "faces = np.transpose(faces)\n",
    "#faces = list of ground truth \n",
    "#validation\n",
    "'''\n",
    "print(faces[236])\n",
    "c1 = int(faces[235][2]) #xcor\n",
    "c2 = int(faces[235][3]) #ycor\n",
    "c3 = int(faces[235][6]) #xcor\n",
    "c4 = int(faces[235][7]) #ycor\n",
    "print(c1, c2, c3, c4)\n",
    "'''\n",
    "current = cv2.cvtColor(cv2.imread('data/images/image_0236.jpg'), cv2.COLOR_BGR2RGB)\n",
    "print(current.shape)\n",
    "#cv2.rectangle(current, (c1, c2), (c3, c4), (0, 255, 0), 5)\n",
    "plt.imshow(current)\n",
    "\n",
    "def last_4chars(x):\n",
    "    return(x[6:-4])\n",
    "\n",
    "facespic = os.listdir('data/images')\n",
    "facespic = sorted(facespic, key = last_4chars)\n",
    "#print(facespic)\n",
    "\n",
    "\n"
   ]
  },
  {
   "cell_type": "code",
   "execution_count": null,
   "id": "59636679",
   "metadata": {},
   "outputs": [
    {
     "name": "stdout",
     "output_type": "stream",
     "text": [
      "896 592\n",
      "(0.6804391902134368, 0.48513771623915936, 0.3897425014148273, 0.8307193441319076)\n"
     ]
    }
   ],
   "source": [
    "def convert(size, box):\n",
    "    dw = 1./size[0]\n",
    "    dh = 1./size[1]\n",
    "    x = (box[0] + box[1])/2.0\n",
    "    y = (box[2] + box[3])/2.0\n",
    "    w = box[1] - box[0]\n",
    "    h = box[3] - box[2]\n",
    "    x = x*dw\n",
    "    w = w*dw\n",
    "    y = y*dh\n",
    "    h = h*dh\n",
    "    return (x,y,w,h)\n",
    "\n",
    "w= int(current.shape[1])\n",
    "h= int(current.shape[0])\n",
    "print(w,h)\n",
    "\n",
    "b = (faces[0][2], faces[0][6], faces[0][3], faces[0][7])\n",
    "bb = convert((w,h), b)\n",
    "print(bb)"
   ]
  },
  {
   "cell_type": "code",
   "execution_count": null,
   "id": "d38113f8",
   "metadata": {},
   "outputs": [],
   "source": [
    "#to darknet format\n",
    "def create_dataset(matfile, facefile):\n",
    "    for i, data in enumerate(matfile):\n",
    "        currentface = cv2.cvtColor(cv2.imread(f'data/images/{facefile[i]}'), cv2.COLOR_BGR2RGB)\n",
    "        #since there is only faces, class will always be 1\n",
    "        y, x, z = currentface.shape\n",
    "        #print(x, y, z)\n",
    "        class_index = 0\n",
    "        #bbox_x_center = ((int(data[6]) - int(data[2]))/2)/x\n",
    "        #bbox_y_center = ((int(data[7]) - int(data[3]))/2)/y\n",
    "        cv2.rectangle(currentface, (int(data[2]), int(data[3])), (int(data[6]), int(data[7])), (0, 255, 0), 5)\n",
    "        plt.imshow(currentface)\n",
    "        #bbox_width = (int(data[6]) - int(data[2]))/x\n",
    "        #bbox_height = (int(data[7]) - int(data[3]))/y\n",
    "        bbox_x_center, bbox_y_center, bbox_width, bbox_height = convert((x,y), (data[2], data[6], data[3], data[7]))\n",
    "        output_text = f'{class_index} {bbox_x_center} {bbox_y_center} {bbox_width} {bbox_height}'\n",
    "        f = open(f'data/labels/image_{i + 1:04n}.txt', 'w')\n",
    "        f.write(output_text)\n",
    "        f.close\n",
    "        \n",
    "        "
   ]
  },
  {
   "cell_type": "code",
   "execution_count": null,
   "id": "79f010fb",
   "metadata": {},
   "outputs": [],
   "source": [
    "#splitting data, scramble and 10-90 split\n",
    "def validation(facespic):\n",
    "    split = int(len(facespic) * 0.1)\n",
    "    file_train = open('data/train.txt', 'w')\n",
    "    file_val = open('data/val.txt', 'w')\n",
    "    random.shuffle(facespic)\n",
    "    for i, faces in enumerate(facespic):\n",
    "        if i <= split:\n",
    "            file_val.write('data/images/' + faces + '\\n')\n",
    "        else:\n",
    "            file_train.write('data/images/' + faces + '\\n')\n",
    "    file_train.close()\n",
    "    file_val.close()"
   ]
  },
  {
   "cell_type": "code",
   "execution_count": null,
   "id": "a0306fe3",
   "metadata": {
    "scrolled": false
   },
   "outputs": [],
   "source": [
    "#create_dataset(faces, facespic)\n",
    "#validation(facespic)\n"
   ]
  },
  {
   "cell_type": "code",
   "execution_count": null,
   "id": "71179cd7",
   "metadata": {},
   "outputs": [],
   "source": []
  }
 ],
 "metadata": {
  "kernelspec": {
   "display_name": "Python 3 (ipykernel)",
   "language": "python",
   "name": "python3"
  },
  "language_info": {
   "codemirror_mode": {
    "name": "ipython",
    "version": 3
   },
   "file_extension": ".py",
   "mimetype": "text/x-python",
   "name": "python",
   "nbconvert_exporter": "python",
   "pygments_lexer": "ipython3",
   "version": "3.8.5"
  }
 },
 "nbformat": 4,
 "nbformat_minor": 5
}
