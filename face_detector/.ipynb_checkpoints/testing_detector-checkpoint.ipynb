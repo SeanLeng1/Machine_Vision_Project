{
 "cells": [
  {
   "cell_type": "markdown",
   "metadata": {},
   "source": [
    "this is sample for us to test the web app, for the actual web app code please check the web folder"
   ]
  },
  {
   "cell_type": "code",
   "execution_count": 1,
   "metadata": {},
   "outputs": [
    {
     "name": "stderr",
     "output_type": "stream",
     "text": [
      "/Library/Frameworks/Python.framework/Versions/3.8/lib/python3.8/site-packages/tqdm/auto.py:22: TqdmWarning: IProgress not found. Please update jupyter and ipywidgets. See https://ipywidgets.readthedocs.io/en/stable/user_install.html\n",
      "  from .autonotebook import tqdm as notebook_tqdm\n"
     ]
    }
   ],
   "source": [
    "import torch\n",
    "from util import (get_result, input_image)\n",
    "import cv2\n",
    "from PIL import Image\n",
    "\n",
    "\n",
    "DEVICE = \"cuda\" if torch.cuda.is_available else \"cpu\""
   ]
  },
  {
   "cell_type": "code",
   "execution_count": null,
   "metadata": {},
   "outputs": [],
   "source": [
    "def to_xyxy(bbox):\n",
    "    if(len(bbox)):\n",
    "        class_num, chances, xcenter, ycenter, width, height = bbox[0][0], bbox[0][1], bbox[0][2], bbox[0][3], bbox[0][4], bbox[0][5]\n",
    "        x1, y1 = xcenter-width/2, ycenter-height/2\n",
    "        x2, y2 = xcenter+width/2, ycenter+height/2\n",
    "        return x1, y1, x2, y2\n",
    "    else:\n",
    "        return 0, 0, 0, 0\n"
   ]
  },
  {
   "cell_type": "code",
   "execution_count": null,
   "metadata": {},
   "outputs": [
    {
     "data": {
      "text/plain": [
       "\"\\nmodel = torch.load('model.pth', map_location = torch.device('cpu'))\\nImage = Image.open('data/images/image_0001.jpg')\\nimg = cv2.imread('data/images/image_0001.jpg')\\nnew_img = input_image(Image)\\nbbox = get_result(model(new_img))\\nx1, y1, x2, y2 =  to_xyxy(bbox)\\nprint(img.shape)\\nimg = cv2.rectangle(img,  (int(x1 * img.shape[1]),int(y1* img.shape[0])), (int(x2* img.shape[1]),int(y2* img.shape[0])), (255,0,0), 2)\\ncv2.imshow('',img)\\ncv2.waitKey()\\n#plot_image(Image, bbox)\\nImage.close()\\n\""
      ]
     },
     "execution_count": 3,
     "metadata": {},
     "output_type": "execute_result"
    }
   ],
   "source": [
    "\n",
    "'''\n",
    "model = torch.load('model.pth', map_location = torch.device('cpu'))\n",
    "Image = Image.open('data/images/image_0001.jpg')\n",
    "img = cv2.imread('data/images/image_0001.jpg')\n",
    "new_img = input_image(Image)\n",
    "bbox = get_result(model(new_img))\n",
    "x1, y1, x2, y2 =  to_xyxy(bbox)\n",
    "print(img.shape)\n",
    "img = cv2.rectangle(img,  (int(x1 * img.shape[1]),int(y1* img.shape[0])), (int(x2* img.shape[1]),int(y2* img.shape[0])), (255,0,0), 2)\n",
    "cv2.imshow('',img)\n",
    "cv2.waitKey()\n",
    "#plot_image(Image, bbox)\n",
    "Image.close()\n",
    "'''\n"
   ]
  },
  {
   "cell_type": "code",
   "execution_count": null,
   "metadata": {},
   "outputs": [],
   "source": [
    "\n",
    "#model = Yolo(split_size=7, num_boxes=2, num_classes=1)\n",
    "model = torch.load('model.pth', map_location = torch.device('cpu'))\n",
    "\n",
    "\n",
    "cap = cv2.VideoCapture(0)\n",
    "\n",
    "while True:\n",
    "    _, img = cap.read()\n",
    "    #imge to tensor \n",
    "    new_img = input_image(Image.fromarray(cv2.cvtColor(img, cv2.COLOR_BGR2RGB)))\n",
    "    bbox = get_result(model(new_img))\n",
    "    #plot_image(Image.fromarray(img), bbox)\n",
    "    #bbox is in the form of 0, xcenter(normalize), ycenter(normalize), width(normalize), height(normalize)\n",
    "    x1, y1, x2, y2 = to_xyxy(bbox)\n",
    "    img = cv2.rectangle(img,  (int(x1 * img.shape[1]),int(y1* img.shape[0])), (int(x2* img.shape[1]),int(y2* img.shape[0])), (255,0,0), 2)\n",
    "    cv2.imshow('',img)\n",
    "\n",
    "    if cv2.waitKey(1) & 0xFF == ord('q'):\n",
    "        break\n"
   ]
  }
 ],
 "metadata": {
  "interpreter": {
   "hash": "aee8b7b246df8f9039afb4144a1f6fd8d2ca17a180786b69acc140d282b71a49"
  },
  "kernelspec": {
   "display_name": "Python 3 (ipykernel)",
   "language": "python",
   "name": "python3"
  },
  "language_info": {
   "codemirror_mode": {
    "name": "ipython",
    "version": 3
   },
   "file_extension": ".py",
   "mimetype": "text/x-python",
   "name": "python",
   "nbconvert_exporter": "python",
   "pygments_lexer": "ipython3",
   "version": "3.9.6"
  }
 },
 "nbformat": 4,
 "nbformat_minor": 2
}
